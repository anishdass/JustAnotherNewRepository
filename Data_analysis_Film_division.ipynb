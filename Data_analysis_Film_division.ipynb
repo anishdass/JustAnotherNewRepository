{
  "nbformat": 4,
  "nbformat_minor": 0,
  "metadata": {
    "colab": {
      "name": "Data_analysis_Film_division.ipynb",
      "provenance": [],
      "authorship_tag": "ABX9TyNGYVQBwDu78D4vmJTukTD2",
      "include_colab_link": true
    },
    "kernelspec": {
      "name": "python3",
      "display_name": "Python 3"
    },
    "language_info": {
      "name": "python"
    }
  },
  "cells": [
    {
      "cell_type": "markdown",
      "metadata": {
        "id": "view-in-github",
        "colab_type": "text"
      },
      "source": [
        "<a href=\"https://colab.research.google.com/github/anishdass/JustAnotherNewRepository/blob/master/Data_analysis_Film_division.ipynb\" target=\"_parent\"><img src=\"https://colab.research.google.com/assets/colab-badge.svg\" alt=\"Open In Colab\"/></a>"
      ]
    },
    {
      "cell_type": "markdown",
      "metadata": {
        "id": "TJI-s0tV0D6d"
      },
      "source": [
        "###A small case study on the films released from 2000 to 2019 to find what kind of movies people are generally fond of making"
      ]
    },
    {
      "cell_type": "markdown",
      "metadata": {
        "id": "s131JH5nSk5T"
      },
      "source": [
        "Loading the data"
      ]
    },
    {
      "cell_type": "code",
      "metadata": {
        "id": "FeF7BZ2zuN4G"
      },
      "source": [
        "import pandas as pd\n",
        "import matplotlib.pyplot as plt\n",
        "import seaborn as sns\n",
        "import numpy as np"
      ],
      "execution_count": 1,
      "outputs": []
    },
    {
      "cell_type": "code",
      "metadata": {
        "id": "V7cU1ZH_ujg9"
      },
      "source": [
        "data = pd.read_csv('Films Division Final.csv')"
      ],
      "execution_count": 2,
      "outputs": []
    },
    {
      "cell_type": "markdown",
      "metadata": {
        "id": "chZmDY4AS82F"
      },
      "source": [
        "\n",
        "Knowing the data"
      ]
    },
    {
      "cell_type": "code",
      "metadata": {
        "colab": {
          "base_uri": "https://localhost:8080/",
          "height": 643
        },
        "id": "JlLxPXUuupsz",
        "outputId": "5e16c6dd-2f28-431e-fc8e-b2275154c330"
      },
      "source": [
        "data.head()"
      ],
      "execution_count": 3,
      "outputs": [
        {
          "output_type": "execute_result",
          "data": {
            "text/html": [
              "<div>\n",
              "<style scoped>\n",
              "    .dataframe tbody tr th:only-of-type {\n",
              "        vertical-align: middle;\n",
              "    }\n",
              "\n",
              "    .dataframe tbody tr th {\n",
              "        vertical-align: top;\n",
              "    }\n",
              "\n",
              "    .dataframe thead th {\n",
              "        text-align: right;\n",
              "    }\n",
              "</style>\n",
              "<table border=\"1\" class=\"dataframe\">\n",
              "  <thead>\n",
              "    <tr style=\"text-align: right;\">\n",
              "      <th></th>\n",
              "      <th>Unnamed: 0</th>\n",
              "      <th>Serial Number</th>\n",
              "      <th>Unique Number</th>\n",
              "      <th>Title</th>\n",
              "      <th>Category</th>\n",
              "      <th>Main Class</th>\n",
              "      <th>Sub Class</th>\n",
              "      <th>Synopsis</th>\n",
              "      <th>Language</th>\n",
              "      <th>Year</th>\n",
              "      <th>Duration</th>\n",
              "      <th>B&amp;W</th>\n",
              "      <th>Director</th>\n",
              "      <th>Cast &amp; Crew</th>\n",
              "    </tr>\n",
              "  </thead>\n",
              "  <tbody>\n",
              "    <tr>\n",
              "      <th>0</th>\n",
              "      <td>0</td>\n",
              "      <td>1.0</td>\n",
              "      <td>1001.0</td>\n",
              "      <td>Round The Clock</td>\n",
              "      <td>Documentary</td>\n",
              "      <td>Political Science</td>\n",
              "      <td>Progress &amp; Development</td>\n",
              "      <td>This film highlights the journey of people liv...</td>\n",
              "      <td>English</td>\n",
              "      <td>1940</td>\n",
              "      <td>9.44</td>\n",
              "      <td>B&amp;W</td>\n",
              "      <td>Krishna Gopal</td>\n",
              "      <td>Cinematography - Krishna Gopal, Editing - Navn...</td>\n",
              "    </tr>\n",
              "    <tr>\n",
              "      <th>1</th>\n",
              "      <td>1</td>\n",
              "      <td>2.0</td>\n",
              "      <td>1002.0</td>\n",
              "      <td>Art in Industry</td>\n",
              "      <td>Documentary</td>\n",
              "      <td>Arts</td>\n",
              "      <td>Painting / Drawing</td>\n",
              "      <td>Everything that needs to be sold, they say sha...</td>\n",
              "      <td>English</td>\n",
              "      <td>1940</td>\n",
              "      <td>10.06</td>\n",
              "      <td>B&amp;W</td>\n",
              "      <td>A. P. Sinha</td>\n",
              "      <td>Cinematography -Y. B. Washikar, Editing - S. R...</td>\n",
              "    </tr>\n",
              "    <tr>\n",
              "      <th>2</th>\n",
              "      <td>2</td>\n",
              "      <td>3.0</td>\n",
              "      <td>1031.0</td>\n",
              "      <td>Message of Netaji Subhash Chandra Bose : As Pr...</td>\n",
              "      <td>Documentary</td>\n",
              "      <td>Freedom Struggle</td>\n",
              "      <td>NaN</td>\n",
              "      <td>Massage of Netaji Subhash Chandra Bose as the ...</td>\n",
              "      <td>Sound Not Available</td>\n",
              "      <td>1940</td>\n",
              "      <td>22.24</td>\n",
              "      <td>B&amp;W</td>\n",
              "      <td>Not Available</td>\n",
              "      <td>Not Available</td>\n",
              "    </tr>\n",
              "    <tr>\n",
              "      <th>3</th>\n",
              "      <td>3</td>\n",
              "      <td>4.0</td>\n",
              "      <td>1003.0</td>\n",
              "      <td>The Changing Face of India</td>\n",
              "      <td>Documentary</td>\n",
              "      <td>Political Science</td>\n",
              "      <td>Progress &amp; Development</td>\n",
              "      <td>The film presents the changing face of India i...</td>\n",
              "      <td>Sound Not Available</td>\n",
              "      <td>1942</td>\n",
              "      <td>10.39</td>\n",
              "      <td>B&amp;W</td>\n",
              "      <td>Ezra Mir &amp; Bhaskar Rao</td>\n",
              "      <td>Cinematography - Jinaraj Bodhye, Editing - Pra...</td>\n",
              "    </tr>\n",
              "    <tr>\n",
              "      <th>4</th>\n",
              "      <td>4</td>\n",
              "      <td>5.0</td>\n",
              "      <td>1004.0</td>\n",
              "      <td>Muslim Conference</td>\n",
              "      <td>Documentary</td>\n",
              "      <td>Religion</td>\n",
              "      <td>Islam</td>\n",
              "      <td>This film documents the Indian Muslim Conferen...</td>\n",
              "      <td>Sound Not Available</td>\n",
              "      <td>1942</td>\n",
              "      <td>5.54</td>\n",
              "      <td>B&amp;W</td>\n",
              "      <td>Not Available</td>\n",
              "      <td>Not Available</td>\n",
              "    </tr>\n",
              "  </tbody>\n",
              "</table>\n",
              "</div>"
            ],
            "text/plain": [
              "   Unnamed: 0  ...                                        Cast & Crew\n",
              "0           0  ...  Cinematography - Krishna Gopal, Editing - Navn...\n",
              "1           1  ...  Cinematography -Y. B. Washikar, Editing - S. R...\n",
              "2           2  ...                                      Not Available\n",
              "3           3  ...  Cinematography - Jinaraj Bodhye, Editing - Pra...\n",
              "4           4  ...                                      Not Available\n",
              "\n",
              "[5 rows x 14 columns]"
            ]
          },
          "metadata": {
            "tags": []
          },
          "execution_count": 3
        }
      ]
    },
    {
      "cell_type": "code",
      "metadata": {
        "colab": {
          "base_uri": "https://localhost:8080/"
        },
        "id": "0sphZVw2urHS",
        "outputId": "b976a1dc-c486-49ec-c5e9-951253dc9da8"
      },
      "source": [
        "data.info()"
      ],
      "execution_count": 4,
      "outputs": [
        {
          "output_type": "stream",
          "text": [
            "<class 'pandas.core.frame.DataFrame'>\n",
            "RangeIndex: 7512 entries, 0 to 7511\n",
            "Data columns (total 14 columns):\n",
            " #   Column         Non-Null Count  Dtype  \n",
            "---  ------         --------------  -----  \n",
            " 0   Unnamed: 0     7512 non-null   int64  \n",
            " 1   Serial Number  7504 non-null   float64\n",
            " 2   Unique Number  7504 non-null   float64\n",
            " 3   Title          7504 non-null   object \n",
            " 4   Category       7504 non-null   object \n",
            " 5   Main Class     7490 non-null   object \n",
            " 6   Sub Class      7084 non-null   object \n",
            " 7   Synopsis       7506 non-null   object \n",
            " 8   Language       7504 non-null   object \n",
            " 9   Year           7512 non-null   int64  \n",
            " 10  Duration       7504 non-null   float64\n",
            " 11  B&W            7504 non-null   object \n",
            " 12  Director       7503 non-null   object \n",
            " 13  Cast & Crew    7509 non-null   object \n",
            "dtypes: float64(3), int64(2), object(9)\n",
            "memory usage: 821.8+ KB\n"
          ],
          "name": "stdout"
        }
      ]
    },
    {
      "cell_type": "code",
      "metadata": {
        "id": "W9GKn2Iv0QTh",
        "colab": {
          "base_uri": "https://localhost:8080/"
        },
        "outputId": "abd967ce-eeb6-4a14-cdcd-c79ccc7832bf"
      },
      "source": [
        "data.Year.unique()"
      ],
      "execution_count": 5,
      "outputs": [
        {
          "output_type": "execute_result",
          "data": {
            "text/plain": [
              "array([1940, 1942, 1943, 1944, 1945, 1946, 1947, 1948, 1949, 1950, 1951,\n",
              "       1952, 1953, 1954, 1955, 1956, 1957, 1958, 1959, 1960, 1961, 1962,\n",
              "       1963, 1964, 1965, 1966, 1967, 1968, 1969, 1970, 1971, 1972, 1973,\n",
              "       1974, 1975, 1976, 1977,    0, 1978, 1979, 1980, 1981, 1982, 1983,\n",
              "       1984, 1985, 1986, 1987, 1988, 1989, 1990, 1991, 1992, 1993, 1994,\n",
              "       1995, 1996, 1997, 1998, 1999, 2000, 2001, 2002, 2003, 2004, 2005,\n",
              "       2006, 2007, 2008, 2009, 2010, 2011, 2012, 2013, 2014, 2015, 2016,\n",
              "       2017, 2018, 2019])"
            ]
          },
          "metadata": {
            "tags": []
          },
          "execution_count": 5
        }
      ]
    },
    {
      "cell_type": "markdown",
      "metadata": {
        "id": "u0ZA5N9_TN_F"
      },
      "source": [
        "Dropping all the unwanted rows and columns from the data"
      ]
    },
    {
      "cell_type": "code",
      "metadata": {
        "id": "Cy2T3hC65Hqa"
      },
      "source": [
        "data.drop(columns = ['Unnamed: 0'], inplace=True)\n",
        "data = data[data.Year != 0]\n",
        "data = data[data.Year.isin(range(2000, 2020))]"
      ],
      "execution_count": null,
      "outputs": []
    },
    {
      "cell_type": "code",
      "metadata": {
        "colab": {
          "base_uri": "https://localhost:8080/",
          "height": 643
        },
        "id": "ooEbMorF5ORD",
        "outputId": "4d90739a-c4fd-4fee-b860-295280f5830b"
      },
      "source": [
        "data.tail()"
      ],
      "execution_count": 7,
      "outputs": [
        {
          "output_type": "execute_result",
          "data": {
            "text/html": [
              "<div>\n",
              "<style scoped>\n",
              "    .dataframe tbody tr th:only-of-type {\n",
              "        vertical-align: middle;\n",
              "    }\n",
              "\n",
              "    .dataframe tbody tr th {\n",
              "        vertical-align: top;\n",
              "    }\n",
              "\n",
              "    .dataframe thead th {\n",
              "        text-align: right;\n",
              "    }\n",
              "</style>\n",
              "<table border=\"1\" class=\"dataframe\">\n",
              "  <thead>\n",
              "    <tr style=\"text-align: right;\">\n",
              "      <th></th>\n",
              "      <th>Serial Number</th>\n",
              "      <th>Unique Number</th>\n",
              "      <th>Title</th>\n",
              "      <th>Category</th>\n",
              "      <th>Main Class</th>\n",
              "      <th>Sub Class</th>\n",
              "      <th>Synopsis</th>\n",
              "      <th>Language</th>\n",
              "      <th>Year</th>\n",
              "      <th>Duration</th>\n",
              "      <th>B&amp;W</th>\n",
              "      <th>Director</th>\n",
              "      <th>Cast &amp; Crew</th>\n",
              "    </tr>\n",
              "  </thead>\n",
              "  <tbody>\n",
              "    <tr>\n",
              "      <th>7507</th>\n",
              "      <td>7500.0</td>\n",
              "      <td>10021.0</td>\n",
              "      <td>You Must be the change you wish to see in the ...</td>\n",
              "      <td>Documentary</td>\n",
              "      <td>Philosophy</td>\n",
              "      <td>Gandhism</td>\n",
              "      <td>The film is based on the slogan of Mahatma Gan...</td>\n",
              "      <td>English</td>\n",
              "      <td>2019</td>\n",
              "      <td>2.16</td>\n",
              "      <td>Col</td>\n",
              "      <td>Pratibha Kaur Pasricha</td>\n",
              "      <td>Cinematography- Ravindra Singh Guram &amp; Shankar...</td>\n",
              "    </tr>\n",
              "    <tr>\n",
              "      <th>7508</th>\n",
              "      <td>7501.0</td>\n",
              "      <td>10024.0</td>\n",
              "      <td>Gandhiji Aur Ahinsa</td>\n",
              "      <td>Documentary</td>\n",
              "      <td>Philosophy</td>\n",
              "      <td>Gandhism</td>\n",
              "      <td>The film portrays Mahatma Gandhi stressing the...</td>\n",
              "      <td>English, Hindi</td>\n",
              "      <td>2019</td>\n",
              "      <td>2.06</td>\n",
              "      <td>Col</td>\n",
              "      <td>V. Packirisamy</td>\n",
              "      <td>Editing- Atish Nandy &amp; Manas Swain,</td>\n",
              "    </tr>\n",
              "    <tr>\n",
              "      <th>7509</th>\n",
              "      <td>7502.0</td>\n",
              "      <td>10027.0</td>\n",
              "      <td>Simplicity and Freedom</td>\n",
              "      <td>Documentary</td>\n",
              "      <td>Philosophy</td>\n",
              "      <td>Gandhism</td>\n",
              "      <td>\"Father of the Nation Mahatma Gandhi\" Devotion...</td>\n",
              "      <td>English</td>\n",
              "      <td>2019</td>\n",
              "      <td>3.18</td>\n",
              "      <td>Col</td>\n",
              "      <td>V. S. Nagarajan</td>\n",
              "      <td>Sound- T. C. Manjunath, Editing- Sanjay Jadhav,</td>\n",
              "    </tr>\n",
              "    <tr>\n",
              "      <th>7510</th>\n",
              "      <td>7503.0</td>\n",
              "      <td>10029.0</td>\n",
              "      <td>The Bardoli Satyaghaha</td>\n",
              "      <td>Documentary</td>\n",
              "      <td>Philosophy</td>\n",
              "      <td>Gandhism</td>\n",
              "      <td>The film shows how the people of Bardoli inspi...</td>\n",
              "      <td>English</td>\n",
              "      <td>2019</td>\n",
              "      <td>2.47</td>\n",
              "      <td>Col</td>\n",
              "      <td>K. S. Shridhar</td>\n",
              "      <td>Editing- S. Shanmuganathan, Music- Sunil Kant ...</td>\n",
              "    </tr>\n",
              "    <tr>\n",
              "      <th>7511</th>\n",
              "      <td>7504.0</td>\n",
              "      <td>10030.0</td>\n",
              "      <td>Mahatma Gandhi Aga Khan Palace</td>\n",
              "      <td>Documentary</td>\n",
              "      <td>Philosophy</td>\n",
              "      <td>Gandhism</td>\n",
              "      <td>The film is about connection of Mahatma Gandhi...</td>\n",
              "      <td>Music</td>\n",
              "      <td>2019</td>\n",
              "      <td>3.36</td>\n",
              "      <td>Col</td>\n",
              "      <td>Pratibha Kaur Pasricha</td>\n",
              "      <td>Cinematography- Ravindra Singh Guram &amp; Shankar...</td>\n",
              "    </tr>\n",
              "  </tbody>\n",
              "</table>\n",
              "</div>"
            ],
            "text/plain": [
              "      Serial Number  ...                                        Cast & Crew\n",
              "7507         7500.0  ...  Cinematography- Ravindra Singh Guram & Shankar...\n",
              "7508         7501.0  ...                Editing- Atish Nandy & Manas Swain,\n",
              "7509         7502.0  ...    Sound- T. C. Manjunath, Editing- Sanjay Jadhav,\n",
              "7510         7503.0  ...  Editing- S. Shanmuganathan, Music- Sunil Kant ...\n",
              "7511         7504.0  ...  Cinematography- Ravindra Singh Guram & Shankar...\n",
              "\n",
              "[5 rows x 13 columns]"
            ]
          },
          "metadata": {
            "tags": []
          },
          "execution_count": 7
        }
      ]
    },
    {
      "cell_type": "markdown",
      "metadata": {
        "id": "l8W6JzMCTjOz"
      },
      "source": [
        "**Visualization**: Number of movies released as per the years."
      ]
    },
    {
      "cell_type": "code",
      "metadata": {
        "colab": {
          "base_uri": "https://localhost:8080/",
          "height": 884
        },
        "id": "B6lS_8ynFkWq",
        "outputId": "f29726ab-9eec-4d5e-ebe8-ef5ea072e59d"
      },
      "source": [
        "plt.figure(figsize=(15, 15))\n",
        "plt.bar(data.Year.unique(), data.Year.value_counts().sort_index())\n",
        "plt.title('Number of movies released as per the year', fontdict={'fontsize':20, 'color':'red'})\n",
        "plt.show()"
      ],
      "execution_count": 67,
      "outputs": [
        {
          "output_type": "display_data",
          "data": {
            "image/png": "[encoded data removed]",
            "text/plain": [
              "<Figure size 1080x1080 with 1 Axes>"
            ]
          },
          "metadata": {
            "tags": [],
            "needs_background": "light"
          }
        }
      ]
    },
    {
      "cell_type": "markdown",
      "metadata": {
        "id": "sCdUy6UiTz4z"
      },
      "source": [
        "**Visualisation**: The number of genres present in the data"
      ]
    },
    {
      "cell_type": "code",
      "metadata": {
        "colab": {
          "base_uri": "https://localhost:8080/",
          "height": 356
        },
        "id": "Ug9jhq0_5Hxk",
        "outputId": "e8a797ea-5b0c-489b-99ec-dcc78c42d758"
      },
      "source": [
        "data.Category.value_counts().plot.bar()\n",
        "plt.xticks(rotation = 45)"
      ],
      "execution_count": 12,
      "outputs": [
        {
          "output_type": "execute_result",
          "data": {
            "text/plain": [
              "(array([0, 1, 2, 3]), <a list of 4 Text major ticklabel objects>)"
            ]
          },
          "metadata": {
            "tags": []
          },
          "execution_count": 12
        },
        {
          "output_type": "display_data",
          "data": {
            "image/png": "[encoded data removed]",
            "text/plain": [
              "<Figure size 432x288 with 1 Axes>"
            ]
          },
          "metadata": {
            "tags": [],
            "needs_background": "light"
          }
        }
      ]
    },
    {
      "cell_type": "markdown",
      "metadata": {
        "id": "3ESeb-F1T--y"
      },
      "source": [
        "**Visualisation**: The number of movies released every year as per the genre."
      ]
    },
    {
      "cell_type": "code",
      "metadata": {
        "id": "QC8-419L5IDd",
        "colab": {
          "base_uri": "https://localhost:8080/",
          "height": 910
        },
        "outputId": "74d8a821-8d16-4557-ff2a-0dfad91e82f8"
      },
      "source": [
        "data.groupby('Year').Category.value_counts().unstack().plot.bar(width = 1, figsize = (15, 15), color = ('#003f5c','#7a5195', '#ff6e54', '#ffa600'))"
      ],
      "execution_count": 60,
      "outputs": [
        {
          "output_type": "execute_result",
          "data": {
            "text/plain": [
              "<matplotlib.axes._subplots.AxesSubplot at 0x7fe9ec9a5810>"
            ]
          },
          "metadata": {
            "tags": []
          },
          "execution_count": 60
        },
        {
          "output_type": "display_data",
          "data": {
            "image/png": "[encoded data removed]",
            "text/plain": [
              "<Figure size 1080x1080 with 1 Axes>"
            ]
          },
          "metadata": {
            "tags": [],
            "needs_background": "light"
          }
        }
      ]
    },
    {
      "cell_type": "code",
      "metadata": {
        "id": "xRCBuOAkD54j"
      },
      "source": [
        ""
      ],
      "execution_count": 16,
      "outputs": []
    }
  ]
}